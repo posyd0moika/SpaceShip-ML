{
 "cells": [
  {
   "cell_type": "code",
   "execution_count": 146,
   "metadata": {
    "collapsed": true
   },
   "outputs": [],
   "source": [
    "import pandas as pd\n",
    "import numpy as np\n",
    "import matplotlib.pyplot as plt\n",
    "from sklearn.ensemble import AdaBoostClassifier, RandomForestClassifier\n",
    "import tensorflow as tf\n",
    "from tensorflow.keras.layers import Dense, Input, Dropout\n",
    "from sklearn.model_selection import train_test_split"
   ]
  },
  {
   "cell_type": "code",
   "execution_count": 147,
   "outputs": [
    {
     "data": {
      "text/plain": "               Age   RoomService     FoodCourt  ShoppingMall           Spa   \ncount  8693.000000   8693.000000   8693.000000   8693.000000   8693.000000  \\\nmean     28.234326    220.009318    448.434027    169.572300    304.588865   \nstd      14.912090    660.519050   1595.790627    598.007164   1125.562559   \nmin       0.000000      0.000000      0.000000      0.000000      0.000000   \n25%      19.000000      0.000000      0.000000      0.000000      0.000000   \n50%      27.000000      0.000000      0.000000      0.000000      0.000000   \n75%      37.000000     41.000000     61.000000     22.000000     53.000000   \nmax      79.000000  14327.000000  29813.000000  23492.000000  22408.000000   \n\n             VRDeck  \ncount   8693.000000  \nmean     298.261820  \nstd     1134.126417  \nmin        0.000000  \n25%        0.000000  \n50%        0.000000  \n75%       40.000000  \nmax    24133.000000  ",
      "text/html": "<div>\n<style scoped>\n    .dataframe tbody tr th:only-of-type {\n        vertical-align: middle;\n    }\n\n    .dataframe tbody tr th {\n        vertical-align: top;\n    }\n\n    .dataframe thead th {\n        text-align: right;\n    }\n</style>\n<table border=\"1\" class=\"dataframe\">\n  <thead>\n    <tr style=\"text-align: right;\">\n      <th></th>\n      <th>Age</th>\n      <th>RoomService</th>\n      <th>FoodCourt</th>\n      <th>ShoppingMall</th>\n      <th>Spa</th>\n      <th>VRDeck</th>\n    </tr>\n  </thead>\n  <tbody>\n    <tr>\n      <th>count</th>\n      <td>8693.000000</td>\n      <td>8693.000000</td>\n      <td>8693.000000</td>\n      <td>8693.000000</td>\n      <td>8693.000000</td>\n      <td>8693.000000</td>\n    </tr>\n    <tr>\n      <th>mean</th>\n      <td>28.234326</td>\n      <td>220.009318</td>\n      <td>448.434027</td>\n      <td>169.572300</td>\n      <td>304.588865</td>\n      <td>298.261820</td>\n    </tr>\n    <tr>\n      <th>std</th>\n      <td>14.912090</td>\n      <td>660.519050</td>\n      <td>1595.790627</td>\n      <td>598.007164</td>\n      <td>1125.562559</td>\n      <td>1134.126417</td>\n    </tr>\n    <tr>\n      <th>min</th>\n      <td>0.000000</td>\n      <td>0.000000</td>\n      <td>0.000000</td>\n      <td>0.000000</td>\n      <td>0.000000</td>\n      <td>0.000000</td>\n    </tr>\n    <tr>\n      <th>25%</th>\n      <td>19.000000</td>\n      <td>0.000000</td>\n      <td>0.000000</td>\n      <td>0.000000</td>\n      <td>0.000000</td>\n      <td>0.000000</td>\n    </tr>\n    <tr>\n      <th>50%</th>\n      <td>27.000000</td>\n      <td>0.000000</td>\n      <td>0.000000</td>\n      <td>0.000000</td>\n      <td>0.000000</td>\n      <td>0.000000</td>\n    </tr>\n    <tr>\n      <th>75%</th>\n      <td>37.000000</td>\n      <td>41.000000</td>\n      <td>61.000000</td>\n      <td>22.000000</td>\n      <td>53.000000</td>\n      <td>40.000000</td>\n    </tr>\n    <tr>\n      <th>max</th>\n      <td>79.000000</td>\n      <td>14327.000000</td>\n      <td>29813.000000</td>\n      <td>23492.000000</td>\n      <td>22408.000000</td>\n      <td>24133.000000</td>\n    </tr>\n  </tbody>\n</table>\n</div>"
     },
     "execution_count": 147,
     "metadata": {},
     "output_type": "execute_result"
    }
   ],
   "source": [
    "data_train = pd.read_csv(\"train.csv\").fillna(0)\n",
    "y_train = np.array(pd.read_csv(\"train.csv\")[\"Transported\"].fillna(0).astype(float))\n",
    "# data_train = data_train[[\"HomePlanet\", \"CryoSleep\", \"Cabin\", \"Destination\", \"Age\", \"VIP\"]]\n",
    "data_train.describe()"
   ],
   "metadata": {
    "collapsed": false
   }
  },
  {
   "cell_type": "code",
   "execution_count": 148,
   "outputs": [],
   "source": [
    "\n",
    "def transform(data):\n",
    "    # PassengerId*, HomePlanet(Earth,Europa, Mars), CryoSleep*, Cabin(P or S)*,\n",
    "    # Destination(TRAPPIST-1e,55 Cancri e, PSO J318.5-22), Age*, VIP*\n",
    "    data.Age = data.Age / 79\n",
    "    data.RoomService /= 14327\n",
    "    data.FoodCourt /= 29813\n",
    "    data.ShoppingMall /= 23492\n",
    "    data.Spa /= 22408\n",
    "    data.VRDeck /= 24133\n",
    "\n",
    "    data.CryoSleep = (data.CryoSleep.astype(float) == 1.0).astype(int)\n",
    "    data.VIP = (data.VIP.astype(float) == 1.0).astype(int)\n",
    "    data.Cabin = [int(\"P\" in i) for i in data.Cabin.astype(str)]\n",
    "\n",
    "    home_planet_cat = pd.get_dummies(data.HomePlanet).astype(int)[[\"Earth\", \"Europa\", \"Mars\"]]\n",
    "    destination_cat = pd.get_dummies(data.Destination).astype(int)[[\"TRAPPIST-1e\", \"55 Cancri e\", \"PSO J318.5-22\"]]\n",
    "    return pd.concat([data, home_planet_cat, destination_cat], axis=1, ignore_index=False)\n"
   ],
   "metadata": {
    "collapsed": false
   }
  },
  {
   "cell_type": "code",
   "execution_count": 149,
   "outputs": [
    {
     "data": {
      "text/plain": "array([[0.00000000e+00, 1.00000000e+00, 4.93670886e-01, ...,\n        0.00000000e+00, 0.00000000e+00, 0.00000000e+00],\n       [0.00000000e+00, 0.00000000e+00, 3.03797468e-01, ...,\n        1.06419207e-03, 2.45001785e-02, 1.82322960e-03],\n       [0.00000000e+00, 0.00000000e+00, 7.34177215e-01, ...,\n        0.00000000e+00, 2.99669761e-01, 2.03041478e-03],\n       ...,\n       [0.00000000e+00, 0.00000000e+00, 3.29113924e-01, ...,\n        7.96867019e-02, 4.46269190e-05, 0.00000000e+00],\n       [0.00000000e+00, 0.00000000e+00, 4.05063291e-01, ...,\n        0.00000000e+00, 1.57533024e-02, 1.34048813e-01],\n       [0.00000000e+00, 0.00000000e+00, 5.56962025e-01, ...,\n        0.00000000e+00, 0.00000000e+00, 4.97244437e-04]])"
     },
     "execution_count": 149,
     "metadata": {},
     "output_type": "execute_result"
    }
   ],
   "source": [
    "data = transform(data_train.copy())[\n",
    "    [\"CryoSleep\", \"Cabin\", \"Age\", \"VIP\", \"Earth\", \"Europa\", \"Mars\", \"TRAPPIST-1e\", \"55 Cancri e\", \"PSO J318.5-22\",\"RoomService\",\"FoodCourt\",\"ShoppingMall\",\"Spa\",\"VRDeck\"]\n",
    "]\n",
    "x_train = np.array(data.values)\n",
    "x_train"
   ],
   "metadata": {
    "collapsed": false
   }
  },
  {
   "cell_type": "code",
   "execution_count": null,
   "outputs": [
    {
     "name": "stdout",
     "output_type": "stream",
     "text": [
      "Epoch 1/50\n",
      "109/109 [==============================] - 1s 1ms/step - loss: 0.6194 - accuracy: 0.6684 - val_loss: 0.5409 - val_accuracy: 0.7332\n",
      "Epoch 2/50\n",
      "109/109 [==============================] - 0s 647us/step - loss: 0.5545 - accuracy: 0.7222 - val_loss: 0.5171 - val_accuracy: 0.7470\n",
      "Epoch 3/50\n",
      "109/109 [==============================] - 0s 679us/step - loss: 0.5343 - accuracy: 0.7337 - val_loss: 0.4950 - val_accuracy: 0.7550\n",
      "Epoch 4/50\n",
      "109/109 [==============================] - 0s 655us/step - loss: 0.5136 - accuracy: 0.7432 - val_loss: 0.4837 - val_accuracy: 0.7648\n",
      "Epoch 5/50\n",
      "109/109 [==============================] - 0s 661us/step - loss: 0.5026 - accuracy: 0.7476 - val_loss: 0.4859 - val_accuracy: 0.7706\n",
      "Epoch 6/50\n",
      "109/109 [==============================] - 0s 805us/step - loss: 0.4916 - accuracy: 0.7574 - val_loss: 0.4658 - val_accuracy: 0.7780\n",
      "Epoch 7/50\n",
      "109/109 [==============================] - 0s 645us/step - loss: 0.4809 - accuracy: 0.7603 - val_loss: 0.4643 - val_accuracy: 0.7861\n",
      "Epoch 8/50\n",
      "109/109 [==============================] - 0s 667us/step - loss: 0.4758 - accuracy: 0.7633 - val_loss: 0.4466 - val_accuracy: 0.7901\n",
      "Epoch 9/50\n",
      "109/109 [==============================] - 0s 652us/step - loss: 0.4705 - accuracy: 0.7701 - val_loss: 0.4500 - val_accuracy: 0.7890\n",
      "Epoch 10/50\n",
      "109/109 [==============================] - 0s 652us/step - loss: 0.4660 - accuracy: 0.7752 - val_loss: 0.4402 - val_accuracy: 0.7947\n",
      "Epoch 11/50\n",
      "109/109 [==============================] - 0s 660us/step - loss: 0.4641 - accuracy: 0.7737 - val_loss: 0.4441 - val_accuracy: 0.7941\n",
      "Epoch 12/50\n",
      "109/109 [==============================] - 0s 649us/step - loss: 0.4560 - accuracy: 0.7811 - val_loss: 0.4309 - val_accuracy: 0.7987\n",
      "Epoch 13/50\n",
      "109/109 [==============================] - 0s 645us/step - loss: 0.4556 - accuracy: 0.7804 - val_loss: 0.4342 - val_accuracy: 0.7953\n",
      "Epoch 14/50\n",
      "109/109 [==============================] - 0s 639us/step - loss: 0.4524 - accuracy: 0.7834 - val_loss: 0.4323 - val_accuracy: 0.8005\n",
      "Epoch 15/50\n",
      "109/109 [==============================] - 0s 615us/step - loss: 0.4530 - accuracy: 0.7849 - val_loss: 0.4379 - val_accuracy: 0.7976\n",
      "Epoch 16/50\n",
      "109/109 [==============================] - 0s 630us/step - loss: 0.4487 - accuracy: 0.7883 - val_loss: 0.4261 - val_accuracy: 0.7930\n",
      "Epoch 17/50\n",
      "109/109 [==============================] - 0s 648us/step - loss: 0.4447 - accuracy: 0.7883 - val_loss: 0.4257 - val_accuracy: 0.7976\n",
      "Epoch 18/50\n",
      "109/109 [==============================] - 0s 652us/step - loss: 0.4484 - accuracy: 0.7902 - val_loss: 0.4293 - val_accuracy: 0.8051\n",
      "Epoch 19/50\n",
      "109/109 [==============================] - 0s 626us/step - loss: 0.4475 - accuracy: 0.7900 - val_loss: 0.4317 - val_accuracy: 0.7982\n",
      "Epoch 20/50\n",
      "109/109 [==============================] - 0s 789us/step - loss: 0.4411 - accuracy: 0.7898 - val_loss: 0.4225 - val_accuracy: 0.8022\n",
      "Epoch 21/50\n",
      "109/109 [==============================] - 0s 615us/step - loss: 0.4439 - accuracy: 0.7913 - val_loss: 0.4280 - val_accuracy: 0.7982\n",
      "Epoch 22/50\n",
      "109/109 [==============================] - 0s 614us/step - loss: 0.4422 - accuracy: 0.7928 - val_loss: 0.4296 - val_accuracy: 0.8016\n",
      "Epoch 23/50\n",
      "109/109 [==============================] - 0s 611us/step - loss: 0.4433 - accuracy: 0.7918 - val_loss: 0.4262 - val_accuracy: 0.7947\n",
      "Epoch 24/50\n",
      "109/109 [==============================] - 0s 610us/step - loss: 0.4404 - accuracy: 0.7936 - val_loss: 0.4268 - val_accuracy: 0.7976\n",
      "Epoch 25/50\n",
      "109/109 [==============================] - 0s 611us/step - loss: 0.4388 - accuracy: 0.7906 - val_loss: 0.4262 - val_accuracy: 0.8005\n",
      "Epoch 26/50\n",
      "109/109 [==============================] - 0s 611us/step - loss: 0.4382 - accuracy: 0.7980 - val_loss: 0.4269 - val_accuracy: 0.8028\n",
      "Epoch 27/50\n",
      "109/109 [==============================] - 0s 606us/step - loss: 0.4355 - accuracy: 0.7948 - val_loss: 0.4186 - val_accuracy: 0.8062\n",
      "Epoch 28/50\n",
      "109/109 [==============================] - 0s 642us/step - loss: 0.4390 - accuracy: 0.7931 - val_loss: 0.4214 - val_accuracy: 0.7999\n",
      "Epoch 29/50\n",
      "109/109 [==============================] - 0s 665us/step - loss: 0.4348 - accuracy: 0.7977 - val_loss: 0.4295 - val_accuracy: 0.7924\n",
      "Epoch 30/50\n",
      "109/109 [==============================] - 0s 607us/step - loss: 0.4385 - accuracy: 0.7955 - val_loss: 0.4247 - val_accuracy: 0.7976\n",
      "Epoch 31/50\n",
      "109/109 [==============================] - 0s 611us/step - loss: 0.4326 - accuracy: 0.7970 - val_loss: 0.4225 - val_accuracy: 0.8005\n",
      "Epoch 32/50\n",
      "109/109 [==============================] - 0s 606us/step - loss: 0.4371 - accuracy: 0.7948 - val_loss: 0.4205 - val_accuracy: 0.7999\n",
      "Epoch 33/50\n",
      "109/109 [==============================] - 0s 613us/step - loss: 0.4348 - accuracy: 0.7981 - val_loss: 0.4233 - val_accuracy: 0.7993\n",
      "Epoch 34/50\n",
      "109/109 [==============================] - 0s 656us/step - loss: 0.4340 - accuracy: 0.8014 - val_loss: 0.4175 - val_accuracy: 0.8010\n",
      "Epoch 35/50\n",
      "109/109 [==============================] - 0s 647us/step - loss: 0.4331 - accuracy: 0.7964 - val_loss: 0.4176 - val_accuracy: 0.8056\n",
      "Epoch 36/50\n",
      "109/109 [==============================] - 0s 658us/step - loss: 0.4345 - accuracy: 0.7935 - val_loss: 0.4270 - val_accuracy: 0.7924\n",
      "Epoch 37/50\n",
      "109/109 [==============================] - 0s 677us/step - loss: 0.4336 - accuracy: 0.7971 - val_loss: 0.4194 - val_accuracy: 0.7987\n",
      "Epoch 38/50\n",
      "109/109 [==============================] - 0s 698us/step - loss: 0.4331 - accuracy: 0.7994 - val_loss: 0.4214 - val_accuracy: 0.8010\n",
      "Epoch 39/50\n",
      "109/109 [==============================] - 0s 653us/step - loss: 0.4306 - accuracy: 0.7968 - val_loss: 0.4192 - val_accuracy: 0.7999\n",
      "Epoch 40/50\n",
      "109/109 [==============================] - 0s 659us/step - loss: 0.4327 - accuracy: 0.7961 - val_loss: 0.4198 - val_accuracy: 0.7953\n",
      "Epoch 41/50\n",
      "109/109 [==============================] - 0s 645us/step - loss: 0.4319 - accuracy: 0.7952 - val_loss: 0.4207 - val_accuracy: 0.7987\n",
      "109/109 [==============================] - 0s 645us/step - loss: 0.4319 - accuracy: 0.7952 - val_loss: 0.4207 - val_accuracy: 0.7987\n",
      "Epoch 42/50\n",
      "  1/109 [..............................] - ETA: 0s - loss: 0.3861 - accuracy: 0.8125"
     ]
    }
   ],
   "source": [
    "model = tf.keras.Sequential([\n",
    "    Input((15,)),\n",
    "    Dense(64, \"relu\"),\n",
    "    Dropout(0.2),\n",
    "    Dense(16, \"relu\"),\n",
    "    Dropout(0.2),\n",
    "    Dense(1, \"sigmoid\")\n",
    "])\n",
    "model.compile(\"adam\", tf.losses.binary_crossentropy, [\"accuracy\"])\n",
    "his = model.fit(x_train, y_train, 64, epochs=50, validation_split=0.2).history\n",
    "model.evaluate(x_train, y_train)"
   ],
   "metadata": {
    "collapsed": false,
    "pycharm": {
     "is_executing": true
    }
   }
  },
  {
   "cell_type": "code",
   "execution_count": null,
   "outputs": [],
   "source": [
    "plt.plot(his[\"accuracy\"], c=\"r\")\n",
    "plt.plot(his[\"val_accuracy\"], c=\"b\")\n",
    "plt.show()"
   ],
   "metadata": {
    "collapsed": false,
    "pycharm": {
     "is_executing": true
    }
   }
  },
  {
   "cell_type": "code",
   "execution_count": 152,
   "outputs": [
    {
     "name": "stdout",
     "output_type": "stream",
     "text": [
      "(6954, 15) (6954,) (1739, 15) (1739,)\n"
     ]
    },
    {
     "data": {
      "text/plain": "0.7866589994249569"
     },
     "execution_count": 152,
     "metadata": {},
     "output_type": "execute_result"
    }
   ],
   "source": [
    "clf = RandomForestClassifier(n_estimators=400, max_depth=45)\n",
    "x_tr, x_test, y_tr, y_test = train_test_split(x_train, y_train, test_size=0.2, shuffle=False)\n",
    "print(x_tr.shape, y_tr.shape,x_test.shape,y_test.shape)\n",
    "\n",
    "clf.fit(x_tr,y_tr)\n",
    "clf.score(x_test,y_test)"
   ],
   "metadata": {
    "collapsed": false
   }
  },
  {
   "cell_type": "code",
   "execution_count": 153,
   "outputs": [
    {
     "data": {
      "text/plain": "0.7918343875790684"
     },
     "execution_count": 153,
     "metadata": {},
     "output_type": "execute_result"
    }
   ],
   "source": [
    "clf = AdaBoostClassifier(n_estimators=800)\n",
    "clf.fit(x_tr,y_tr)\n",
    "clf.score(x_test,y_test)"
   ],
   "metadata": {
    "collapsed": false
   }
  },
  {
   "cell_type": "code",
   "execution_count": 154,
   "outputs": [],
   "source": [
    "test = pd.read_csv(\"test.csv\").fillna(0)\n",
    "test = transform(test.copy())[\n",
    "    [\"CryoSleep\", \"Cabin\", \"Age\", \"VIP\", \"Earth\", \"Europa\", \"Mars\", \"TRAPPIST-1e\", \"55 Cancri e\", \"PSO J318.5-22\",\"RoomService\",\"FoodCourt\",\"ShoppingMall\",\"Spa\",\"VRDeck\"]\n",
    "]\n",
    "x_test = np.array(data.values)"
   ],
   "metadata": {
    "collapsed": false
   }
  },
  {
   "cell_type": "code",
   "execution_count": 155,
   "outputs": [
    {
     "name": "stdout",
     "output_type": "stream",
     "text": [
      "272/272 [==============================] - 0s 295us/step\n"
     ]
    }
   ],
   "source": [
    "sub = pd.read_csv(\"sample_submission\").fillna(0)\n",
    "sub.Transported = pd.DataFrame((model.predict(x_test) >= 0.5).astype(int)).astype(bool)\n",
    "pd.DataFrame(sub[[\"PassengerId\",\"Transported\"]]).to_csv(\"resultNN.csv\",index=False)"
   ],
   "metadata": {
    "collapsed": false
   }
  },
  {
   "cell_type": "code",
   "execution_count": 155,
   "outputs": [],
   "source": [],
   "metadata": {
    "collapsed": false
   }
  }
 ],
 "metadata": {
  "kernelspec": {
   "display_name": "Python 3",
   "language": "python",
   "name": "python3"
  },
  "language_info": {
   "codemirror_mode": {
    "name": "ipython",
    "version": 2
   },
   "file_extension": ".py",
   "mimetype": "text/x-python",
   "name": "python",
   "nbconvert_exporter": "python",
   "pygments_lexer": "ipython2",
   "version": "2.7.6"
  }
 },
 "nbformat": 4,
 "nbformat_minor": 0
}
