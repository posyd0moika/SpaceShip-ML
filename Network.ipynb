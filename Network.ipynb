{
 "cells": [
  {
   "cell_type": "code",
   "execution_count": 30,
   "metadata": {
    "collapsed": true
   },
   "outputs": [],
   "source": [
    "import pandas as pd\n",
    "import numpy as np\n",
    "import matplotlib.pyplot as plt\n",
    "from sklearn.ensemble import AdaBoostClassifier\n",
    "import tensorflow as tf\n",
    "from tensorflow.keras.layers import Dense,Input,Dropout\n",
    "# from sklearn.cr"
   ]
  },
  {
   "cell_type": "code",
   "execution_count": 3,
   "outputs": [
    {
     "data": {
      "text/plain": "     HomePlanet CryoSleep     Cabin    Destination   Age    VIP\n0         Earth      True     G/3/S    TRAPPIST-1e  27.0  False\n1         Earth     False     F/4/S    TRAPPIST-1e  19.0  False\n2        Europa      True     C/0/S    55 Cancri e  31.0  False\n3        Europa     False     C/1/S    TRAPPIST-1e  38.0  False\n4         Earth     False     F/5/S    TRAPPIST-1e  20.0  False\n...         ...       ...       ...            ...   ...    ...\n4272      Earth      True  G/1496/S    TRAPPIST-1e  34.0  False\n4273      Earth     False         0    TRAPPIST-1e  42.0  False\n4274       Mars      True   D/296/P    55 Cancri e   0.0  False\n4275     Europa     False   D/297/P              0   0.0  False\n4276      Earth      True  G/1498/S  PSO J318.5-22  43.0  False\n\n[4277 rows x 6 columns]",
      "text/html": "<div>\n<style scoped>\n    .dataframe tbody tr th:only-of-type {\n        vertical-align: middle;\n    }\n\n    .dataframe tbody tr th {\n        vertical-align: top;\n    }\n\n    .dataframe thead th {\n        text-align: right;\n    }\n</style>\n<table border=\"1\" class=\"dataframe\">\n  <thead>\n    <tr style=\"text-align: right;\">\n      <th></th>\n      <th>HomePlanet</th>\n      <th>CryoSleep</th>\n      <th>Cabin</th>\n      <th>Destination</th>\n      <th>Age</th>\n      <th>VIP</th>\n    </tr>\n  </thead>\n  <tbody>\n    <tr>\n      <th>0</th>\n      <td>Earth</td>\n      <td>True</td>\n      <td>G/3/S</td>\n      <td>TRAPPIST-1e</td>\n      <td>27.0</td>\n      <td>False</td>\n    </tr>\n    <tr>\n      <th>1</th>\n      <td>Earth</td>\n      <td>False</td>\n      <td>F/4/S</td>\n      <td>TRAPPIST-1e</td>\n      <td>19.0</td>\n      <td>False</td>\n    </tr>\n    <tr>\n      <th>2</th>\n      <td>Europa</td>\n      <td>True</td>\n      <td>C/0/S</td>\n      <td>55 Cancri e</td>\n      <td>31.0</td>\n      <td>False</td>\n    </tr>\n    <tr>\n      <th>3</th>\n      <td>Europa</td>\n      <td>False</td>\n      <td>C/1/S</td>\n      <td>TRAPPIST-1e</td>\n      <td>38.0</td>\n      <td>False</td>\n    </tr>\n    <tr>\n      <th>4</th>\n      <td>Earth</td>\n      <td>False</td>\n      <td>F/5/S</td>\n      <td>TRAPPIST-1e</td>\n      <td>20.0</td>\n      <td>False</td>\n    </tr>\n    <tr>\n      <th>...</th>\n      <td>...</td>\n      <td>...</td>\n      <td>...</td>\n      <td>...</td>\n      <td>...</td>\n      <td>...</td>\n    </tr>\n    <tr>\n      <th>4272</th>\n      <td>Earth</td>\n      <td>True</td>\n      <td>G/1496/S</td>\n      <td>TRAPPIST-1e</td>\n      <td>34.0</td>\n      <td>False</td>\n    </tr>\n    <tr>\n      <th>4273</th>\n      <td>Earth</td>\n      <td>False</td>\n      <td>0</td>\n      <td>TRAPPIST-1e</td>\n      <td>42.0</td>\n      <td>False</td>\n    </tr>\n    <tr>\n      <th>4274</th>\n      <td>Mars</td>\n      <td>True</td>\n      <td>D/296/P</td>\n      <td>55 Cancri e</td>\n      <td>0.0</td>\n      <td>False</td>\n    </tr>\n    <tr>\n      <th>4275</th>\n      <td>Europa</td>\n      <td>False</td>\n      <td>D/297/P</td>\n      <td>0</td>\n      <td>0.0</td>\n      <td>False</td>\n    </tr>\n    <tr>\n      <th>4276</th>\n      <td>Earth</td>\n      <td>True</td>\n      <td>G/1498/S</td>\n      <td>PSO J318.5-22</td>\n      <td>43.0</td>\n      <td>False</td>\n    </tr>\n  </tbody>\n</table>\n<p>4277 rows × 6 columns</p>\n</div>"
     },
     "execution_count": 3,
     "metadata": {},
     "output_type": "execute_result"
    }
   ],
   "source": [
    "data_test = pd.read_csv(\"test.csv\").fillna(0)\n",
    "y_train = np.array(pd.read_csv(\"sample_submission\")[\"Transported\"].fillna(0).astype(float))\n",
    "data_test = data_test[[\"HomePlanet\",\"CryoSleep\",\"Cabin\",\"Destination\",\"Age\",\"VIP\"]]\n",
    "data_test"
   ],
   "metadata": {
    "collapsed": false
   }
  },
  {
   "cell_type": "code",
   "execution_count": 4,
   "outputs": [],
   "source": [
    "\n",
    "def transform(data):\n",
    "    # PassengerId*, HomePlanet(Earth,Europa, Mars), CryoSleep*, Cabin(P or S)*,\n",
    "    # Destination(TRAPPIST-1e,55 Cancri e, PSO J318.5-22), Age*, VIP*\n",
    "    data.Age = data.Age / 79\n",
    "\n",
    "    data.CryoSleep = (data.CryoSleep.astype(float) == 1.0).astype(int)\n",
    "    data.VIP = (data.VIP.astype(float) == 1.0).astype(int)\n",
    "    data.Cabin = [int(\"P\" in i) for i in data.Cabin.astype(str)]\n",
    "\n",
    "    home_planet_cat = pd.get_dummies(data.HomePlanet).astype(int)[[\"Earth\", \"Europa\", \"Mars\"]]\n",
    "    destination_cat = pd.get_dummies(data.Destination).astype(int)[[\"TRAPPIST-1e\", \"55 Cancri e\", \"PSO J318.5-22\"]]\n",
    "    return pd.concat([data,home_planet_cat,destination_cat],axis=1,ignore_index=False)\n"
   ],
   "metadata": {
    "collapsed": false
   }
  },
  {
   "cell_type": "code",
   "execution_count": 26,
   "outputs": [
    {
     "data": {
      "text/plain": "array([[1.        , 0.        , 0.34177215, ..., 1.        , 0.        ,\n        0.        ],\n       [0.        , 0.        , 0.24050633, ..., 1.        , 0.        ,\n        0.        ],\n       [1.        , 0.        , 0.39240506, ..., 0.        , 1.        ,\n        0.        ],\n       ...,\n       [1.        , 1.        , 0.        , ..., 0.        , 1.        ,\n        0.        ],\n       [0.        , 1.        , 0.        , ..., 0.        , 0.        ,\n        0.        ],\n       [1.        , 0.        , 0.5443038 , ..., 0.        , 0.        ,\n        1.        ]])"
     },
     "execution_count": 26,
     "metadata": {},
     "output_type": "execute_result"
    }
   ],
   "source": [
    "data = transform(data_test.copy())[[\"CryoSleep\",\"Cabin\",\"Age\",\"VIP\",\"Earth\",\"Europa\",\"Mars\",\"TRAPPIST-1e\",\"55 Cancri e\",\"PSO J318.5-22\"]]\n",
    "x_train = np.array(data.values)\n",
    "x_train"
   ],
   "metadata": {
    "collapsed": false
   }
  },
  {
   "cell_type": "code",
   "execution_count": 31,
   "outputs": [],
   "source": [
    "model = tf.keras.Sequential([\n",
    "    Input((10,)),\n",
    "    Dense(64,\"relu\"),\n",
    "    Dropout(0.1),\n",
    "    Dense(16,\"relu\"),\n",
    "    Dropout(0.05),\n",
    "    Dense(1,\"sigmoid\")\n",
    "])\n",
    "model.summary()"
   ],
   "metadata": {
    "collapsed": false
   }
  },
  {
   "cell_type": "code",
   "execution_count": 32,
   "outputs": [],
   "source": [
    "model.compile(\"adam\",tf.losses.binary_crossentropy,[\"accuracy\",\"mse\"])\n",
    "his = model.fit(x_train,y_train,64,epochs=30,validation_split=0.2).history\n",
    "model.evaluate(x_train,y_train)"
   ],
   "metadata": {
    "collapsed": false
   }
  },
  {
   "cell_type": "code",
   "execution_count": 33,
   "outputs": [],
   "source": [
    "plt.plot(his[\"accuracy\"],c=\"r\")\n",
    "plt.plot(his[\"val_accuracy\"],c=\"b\")\n",
    "plt.show()"
   ],
   "metadata": {
    "collapsed": false
   }
  },
  {
   "cell_type": "code",
   "execution_count": null,
   "outputs": [],
   "source": [],
   "metadata": {
    "collapsed": false
   }
  }
 ],
 "metadata": {
  "kernelspec": {
   "display_name": "Python 3",
   "language": "python",
   "name": "python3"
  },
  "language_info": {
   "codemirror_mode": {
    "name": "ipython",
    "version": 2
   },
   "file_extension": ".py",
   "mimetype": "text/x-python",
   "name": "python",
   "nbconvert_exporter": "python",
   "pygments_lexer": "ipython2",
   "version": "2.7.6"
  }
 },
 "nbformat": 4,
 "nbformat_minor": 0
}
